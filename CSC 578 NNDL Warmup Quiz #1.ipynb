{
 "cells": [
  {
   "cell_type": "markdown",
   "metadata": {},
   "source": [
    "### CSC 578 Neural Networks and Deep Learning\n",
    "\n",
    "### Warmup quiz #1"
   ]
  },
  {
   "cell_type": "code",
   "execution_count": 2,
   "metadata": {
    "collapsed": true
   },
   "outputs": [],
   "source": [
    "import numpy as np"
   ]
  },
  {
   "cell_type": "code",
   "execution_count": 9,
   "metadata": {
    "collapsed": true
   },
   "outputs": [],
   "source": [
    "\"\"\"\n",
    "network.py\n",
    "~~~~~~~~~~\n",
    "\n",
    "A module to implement the stochastic gradient descent learning\n",
    "algorithm for a feedforward neural network.  Gradients are calculated\n",
    "using backpropagation.  Note that I have focused on making the code\n",
    "simple, easily readable, and easily modifiable.  It is not optimized,\n",
    "and omits many desirable features.\n",
    "\"\"\"\n",
    "\n",
    "#### Libraries\n",
    "# Standard library\n",
    "import random\n",
    "\n",
    "# Third-party libraries\n",
    "import numpy as np\n",
    "\n",
    "class Network(object):\n",
    "\n",
    "    def __init__(self, sizes):\n",
    "        \"\"\"The list ``sizes`` contains the number of neurons in the\n",
    "        respective layers of the network.  For example, if the list\n",
    "        was [2, 3, 1] then it would be a three-layer network, with the\n",
    "        first layer containing 2 neurons, the second layer 3 neurons,\n",
    "        and the third layer 1 neuron.  The biases and weights for the\n",
    "        network are initialized randomly, using a Gaussian\n",
    "        distribution with mean 0, and variance 1.  Note that the first\n",
    "        layer is assumed to be an input layer, and by convention we\n",
    "        won't set any biases for those neurons, since biases are only\n",
    "        ever used in computing the outputs from later layers.\"\"\"\n",
    "        self.num_layers = len(sizes)\n",
    "        self.sizes = sizes\n",
    "        self.biases = [np.random.randn(y, 1) for y in sizes[1:]]\n",
    "        self.weights = [np.random.randn(y, x)\n",
    "                        for x, y in zip(sizes[:-1], sizes[1:])]\n",
    "\n",
    "    def feedforward(self, a):\n",
    "        \"\"\"Return the output of the network if ``a`` is input.\"\"\"\n",
    "        for b, w in zip(self.biases, self.weights):\n",
    "            a = sigmoid(np.dot(w, a)+b)\n",
    "        return a\n",
    "\n",
    "    def SGD(self, training_data, epochs, mini_batch_size, eta,\n",
    "            test_data=None):\n",
    "        \"\"\"Train the neural network using mini-batch stochastic\n",
    "        gradient descent.  The ``training_data`` is a list of tuples\n",
    "        ``(x, y)`` representing the training inputs and the desired\n",
    "        outputs.  The other non-optional parameters are\n",
    "        self-explanatory.  If ``test_data`` is provided then the\n",
    "        network will be evaluated against the test data after each\n",
    "        epoch, and partial progress printed out.  This is useful for\n",
    "        tracking progress, but slows things down substantially.\"\"\"\n",
    "        if test_data: n_test = len(test_data)\n",
    "        n = len(training_data)\n",
    "        for j in xrange(epochs):\n",
    "            random.shuffle(training_data)\n",
    "            mini_batches = [\n",
    "                training_data[k:k+mini_batch_size]\n",
    "                for k in xrange(0, n, mini_batch_size)]\n",
    "            for mini_batch in mini_batches:\n",
    "                self.update_mini_batch(mini_batch, eta)\n",
    "            if test_data:\n",
    "                print \"Epoch {0}: {1} / {2}\".format(\n",
    "                    j, self.evaluate(test_data), n_test)\n",
    "            else:\n",
    "                print \"Epoch {0} complete\".format(j)\n",
    "\n",
    "    def update_mini_batch(self, mini_batch, eta):\n",
    "        \"\"\"Update the network's weights and biases by applying\n",
    "        gradient descent using backpropagation to a single mini batch.\n",
    "        The ``mini_batch`` is a list of tuples ``(x, y)``, and ``eta``\n",
    "        is the learning rate.\"\"\"\n",
    "        nabla_b = [np.zeros(b.shape) for b in self.biases]\n",
    "        nabla_w = [np.zeros(w.shape) for w in self.weights]\n",
    "        for x, y in mini_batch:\n",
    "            delta_nabla_b, delta_nabla_w = self.backprop(x, y)\n",
    "            nabla_b = [nb+dnb for nb, dnb in zip(nabla_b, delta_nabla_b)]\n",
    "            nabla_w = [nw+dnw for nw, dnw in zip(nabla_w, delta_nabla_w)]\n",
    "        self.weights = [w-(eta/len(mini_batch))*nw\n",
    "                        for w, nw in zip(self.weights, nabla_w)]\n",
    "        self.biases = [b-(eta/len(mini_batch))*nb\n",
    "                       for b, nb in zip(self.biases, nabla_b)]\n",
    "\n",
    "    def backprop(self, x, y):\n",
    "        \"\"\"Return a tuple ``(nabla_b, nabla_w)`` representing the\n",
    "        gradient for the cost function C_x.  ``nabla_b`` and\n",
    "        ``nabla_w`` are layer-by-layer lists of numpy arrays, similar\n",
    "        to ``self.biases`` and ``self.weights``.\"\"\"\n",
    "        nabla_b = [np.zeros(b.shape) for b in self.biases]\n",
    "        nabla_w = [np.zeros(w.shape) for w in self.weights]\n",
    "        # feedforward\n",
    "        activation = x\n",
    "        activations = [x] # list to store all the activations, layer by layer\n",
    "        zs = [] # list to store all the z vectors, layer by layer\n",
    "        for b, w in zip(self.biases, self.weights):\n",
    "            z = np.dot(w, activation)+b\n",
    "            zs.append(z)\n",
    "            activation = sigmoid(z)\n",
    "            activations.append(activation)\n",
    "        # backward pass\n",
    "        delta = self.cost_derivative(activations[-1], y) * \\\n",
    "            sigmoid_prime(zs[-1])\n",
    "        nabla_b[-1] = delta\n",
    "        nabla_w[-1] = np.dot(delta, activations[-2].transpose())\n",
    "        # Note that the variable l in the loop below is used a little\n",
    "        # differently to the notation in Chapter 2 of the book.  Here,\n",
    "        # l = 1 means the last layer of neurons, l = 2 is the\n",
    "        # second-last layer, and so on.  It's a renumbering of the\n",
    "        # scheme in the book, used here to take advantage of the fact\n",
    "        # that Python can use negative indices in lists.\n",
    "        for l in xrange(2, self.num_layers):\n",
    "            z = zs[-l]\n",
    "            sp = sigmoid_prime(z)\n",
    "            delta = np.dot(self.weights[-l+1].transpose(), delta) * sp\n",
    "            nabla_b[-l] = delta\n",
    "            nabla_w[-l] = np.dot(delta, activations[-l-1].transpose())\n",
    "        return (nabla_b, nabla_w)\n",
    "\n",
    "    def evaluate(self, test_data):\n",
    "        \"\"\"Return the number of test inputs for which the neural\n",
    "        network outputs the correct result. Note that the neural\n",
    "        network's output is assumed to be the index of whichever\n",
    "        neuron in the final layer has the highest activation.\"\"\"\n",
    "        test_results = [(np.argmax(self.feedforward(x)), y)\n",
    "                        for (x, y) in test_data]\n",
    "        return sum(int(x == y) for (x, y) in test_results)\n",
    "\n",
    "    def cost_derivative(self, output_activations, y):\n",
    "        \"\"\"Return the vector of partial derivatives \\partial C_x /\n",
    "        \\partial a for the output activations.\"\"\"\n",
    "        return (output_activations-y)\n",
    "\n",
    "#### Miscellaneous functions\n",
    "def sigmoid(z):\n",
    "    \"\"\"The sigmoid function.\"\"\"\n",
    "    return 1.0/(1.0+np.exp(-z))\n",
    "\n",
    "def sigmoid_prime(z):\n",
    "    \"\"\"Derivative of the sigmoid function.\"\"\"\n",
    "    return sigmoid(z)*(1-sigmoid(z))"
   ]
  },
  {
   "cell_type": "code",
   "execution_count": 17,
   "metadata": {
    "collapsed": true
   },
   "outputs": [],
   "source": [
    "\"\"\"\n",
    "mnist_loader\n",
    "~~~~~~~~~~~~\n",
    "\n",
    "A library to load the MNIST image data.  For details of the data\n",
    "structures that are returned, see the doc strings for ``load_data``\n",
    "and ``load_data_wrapper``.  In practice, ``load_data_wrapper`` is the\n",
    "function usually called by our neural network code.\n",
    "\"\"\"\n",
    "\n",
    "#### Libraries\n",
    "# Standard library\n",
    "import cPickle\n",
    "import gzip\n",
    "\n",
    "# Third-party libraries\n",
    "import numpy as np\n",
    "\n",
    "def load_data():\n",
    "    \"\"\"Return the MNIST data as a tuple containing the training data,\n",
    "    the validation data, and the test data.\n",
    "\n",
    "    The ``training_data`` is returned as a tuple with two entries.\n",
    "    The first entry contains the actual training images.  This is a\n",
    "    numpy ndarray with 50,000 entries.  Each entry is, in turn, a\n",
    "    numpy ndarray with 784 values, representing the 28 * 28 = 784\n",
    "    pixels in a single MNIST image.\n",
    "\n",
    "    The second entry in the ``training_data`` tuple is a numpy ndarray\n",
    "    containing 50,000 entries.  Those entries are just the digit\n",
    "    values (0...9) for the corresponding images contained in the first\n",
    "    entry of the tuple.\n",
    "\n",
    "    The ``validation_data`` and ``test_data`` are similar, except\n",
    "    each contains only 10,000 images.\n",
    "\n",
    "    This is a nice data format, but for use in neural networks it's\n",
    "    helpful to modify the format of the ``training_data`` a little.\n",
    "    That's done in the wrapper function ``load_data_wrapper()``, see\n",
    "    below.\n",
    "    \"\"\"\n",
    "    f = gzip.open('../data/mnist.pkl.gz', 'rb')\n",
    "    training_data, validation_data, test_data = cPickle.load(f)\n",
    "    f.close()\n",
    "    return (training_data, validation_data, test_data)\n",
    "\n",
    "def load_data_wrapper():\n",
    "    \"\"\"Return a tuple containing ``(training_data, validation_data,\n",
    "    test_data)``. Based on ``load_data``, but the format is more\n",
    "    convenient for use in our implementation of neural networks.\n",
    "\n",
    "    In particular, ``training_data`` is a list containing 50,000\n",
    "    2-tuples ``(x, y)``.  ``x`` is a 784-dimensional numpy.ndarray\n",
    "    containing the input image.  ``y`` is a 10-dimensional\n",
    "    numpy.ndarray representing the unit vector corresponding to the\n",
    "    correct digit for ``x``.\n",
    "\n",
    "    ``validation_data`` and ``test_data`` are lists containing 10,000\n",
    "    2-tuples ``(x, y)``.  In each case, ``x`` is a 784-dimensional\n",
    "    numpy.ndarry containing the input image, and ``y`` is the\n",
    "    corresponding classification, i.e., the digit values (integers)\n",
    "    corresponding to ``x``.\n",
    "\n",
    "    Obviously, this means we're using slightly different formats for\n",
    "    the training data and the validation / test data.  These formats\n",
    "    turn out to be the most convenient for use in our neural network\n",
    "    code.\"\"\"\n",
    "    tr_d, va_d, te_d = load_data()\n",
    "    training_inputs = [np.reshape(x, (784, 1)) for x in tr_d[0]]\n",
    "    training_results = [vectorized_result(y) for y in tr_d[1]]\n",
    "    training_data = zip(training_inputs, training_results)\n",
    "    validation_inputs = [np.reshape(x, (784, 1)) for x in va_d[0]]\n",
    "    validation_data = zip(validation_inputs, va_d[1])\n",
    "    test_inputs = [np.reshape(x, (784, 1)) for x in te_d[0]]\n",
    "    test_data = zip(test_inputs, te_d[1])\n",
    "    return (training_data, validation_data, test_data)\n",
    "\n",
    "def vectorized_result(j):\n",
    "    \"\"\"Return a 10-dimensional unit vector with a 1.0 in the jth\n",
    "    position and zeroes elsewhere.  This is used to convert a digit\n",
    "    (0...9) into a corresponding desired output from the neural\n",
    "    network.\"\"\"\n",
    "    e = np.zeros((10, 1))\n",
    "    e[j] = 1.0\n",
    "    return e"
   ]
  },
  {
   "cell_type": "code",
   "execution_count": 40,
   "metadata": {
    "collapsed": false
   },
   "outputs": [
    {
     "name": "stdout",
     "output_type": "stream",
     "text": [
      "\u001b[31mmnist.pkl.gz\u001b[m\u001b[m\r\n"
     ]
    }
   ],
   "source": [
    "# Change working directory\n",
    "import os\n",
    "#os.getcwd()\n",
    "os.chdir('/Users/zacklarsen/Desktop/CSC 578 Neural Networks and Deep Learning/neural-networks-and-deep-learning-master/data')\n",
    "!ls"
   ]
  },
  {
   "cell_type": "code",
   "execution_count": 41,
   "metadata": {
    "collapsed": false
   },
   "outputs": [],
   "source": [
    "## Load the MNIST data\n",
    "training_data, validation_data, test_data = \\\n",
    "load_data_wrapper()"
   ]
  },
  {
   "cell_type": "code",
   "execution_count": 45,
   "metadata": {
    "collapsed": false
   },
   "outputs": [],
   "source": [
    "## After loading the MNIST data, we'll set up a Network with 30 30 hidden neurons\n",
    "net = Network([784, 30, 10])"
   ]
  },
  {
   "cell_type": "markdown",
   "metadata": {},
   "source": [
    "### We'll use stochastic gradient descent to learn from the MNIST training_data over 30 epochs, with a mini-batch size of 10, and a learning rate of η=3.0"
   ]
  },
  {
   "cell_type": "code",
   "execution_count": 43,
   "metadata": {
    "collapsed": false
   },
   "outputs": [
    {
     "name": "stdout",
     "output_type": "stream",
     "text": [
      "Epoch 0: 9130 / 10000\n",
      "Epoch 1: 9246 / 10000\n",
      "Epoch 2: 9334 / 10000\n",
      "Epoch 3: 9353 / 10000\n",
      "Epoch 4: 9356 / 10000\n",
      "Epoch 5: 9397 / 10000\n",
      "Epoch 6: 9412 / 10000\n",
      "Epoch 7: 9429 / 10000\n",
      "Epoch 8: 9461 / 10000\n",
      "Epoch 9: 9436 / 10000\n",
      "Epoch 10: 9437 / 10000\n",
      "Epoch 11: 9447 / 10000\n",
      "Epoch 12: 9443 / 10000\n",
      "Epoch 13: 9462 / 10000\n",
      "Epoch 14: 9468 / 10000\n",
      "Epoch 15: 9449 / 10000\n",
      "Epoch 16: 9488 / 10000\n",
      "Epoch 17: 9480 / 10000\n",
      "Epoch 18: 9507 / 10000\n",
      "Epoch 19: 9486 / 10000\n",
      "Epoch 20: 9483 / 10000\n",
      "Epoch 21: 9479 / 10000\n",
      "Epoch 22: 9497 / 10000\n",
      "Epoch 23: 9474 / 10000\n",
      "Epoch 24: 9493 / 10000\n",
      "Epoch 25: 9509 / 10000\n",
      "Epoch 26: 9481 / 10000\n",
      "Epoch 27: 9494 / 10000\n",
      "Epoch 28: 9475 / 10000\n",
      "Epoch 29: 9520 / 10000\n"
     ]
    }
   ],
   "source": [
    "net.SGD(training_data, 30, 10, 3.0, test_data=test_data)"
   ]
  },
  {
   "cell_type": "markdown",
   "metadata": {},
   "source": [
    "### Let's rerun the above experiment, changing the number of hidden neurons to 100"
   ]
  },
  {
   "cell_type": "code",
   "execution_count": 44,
   "metadata": {
    "collapsed": false
   },
   "outputs": [
    {
     "name": "stdout",
     "output_type": "stream",
     "text": [
      "Epoch 0: 6586 / 10000\n",
      "Epoch 1: 6705 / 10000\n",
      "Epoch 2: 6758 / 10000\n",
      "Epoch 3: 6770 / 10000\n",
      "Epoch 4: 6815 / 10000\n",
      "Epoch 5: 6900 / 10000\n",
      "Epoch 6: 7736 / 10000\n",
      "Epoch 7: 7759 / 10000\n",
      "Epoch 8: 7786 / 10000\n",
      "Epoch 9: 7773 / 10000\n",
      "Epoch 10: 7793 / 10000\n",
      "Epoch 11: 7801 / 10000\n",
      "Epoch 12: 7795 / 10000\n",
      "Epoch 13: 7800 / 10000\n",
      "Epoch 14: 7813 / 10000\n",
      "Epoch 15: 7811 / 10000\n",
      "Epoch 16: 7805 / 10000\n",
      "Epoch 17: 7809 / 10000\n",
      "Epoch 18: 7828 / 10000\n",
      "Epoch 19: 7814 / 10000\n",
      "Epoch 20: 7831 / 10000\n",
      "Epoch 21: 7812 / 10000\n",
      "Epoch 22: 7827 / 10000\n",
      "Epoch 23: 7832 / 10000\n",
      "Epoch 24: 7831 / 10000\n",
      "Epoch 25: 7842 / 10000\n",
      "Epoch 26: 7833 / 10000\n",
      "Epoch 27: 7836 / 10000\n",
      "Epoch 28: 7830 / 10000\n",
      "Epoch 29: 7837 / 10000\n"
     ]
    }
   ],
   "source": [
    "net = Network([784, 100, 10])\n",
    "net.SGD(training_data, 30, 10, 3.0, test_data=test_data)"
   ]
  },
  {
   "cell_type": "markdown",
   "metadata": {},
   "source": [
    "### If we choose our hyper-parameters poorly, we can get bad results. Suppose, for example, that we'd chosen the learning rate to be η=0.001"
   ]
  },
  {
   "cell_type": "code",
   "execution_count": 46,
   "metadata": {
    "collapsed": false
   },
   "outputs": [
    {
     "name": "stdout",
     "output_type": "stream",
     "text": [
      "Epoch 0: 853 / 10000\n",
      "Epoch 1: 1074 / 10000\n",
      "Epoch 2: 1156 / 10000\n",
      "Epoch 3: 1161 / 10000\n",
      "Epoch 4: 1167 / 10000\n",
      "Epoch 5: 1174 / 10000\n",
      "Epoch 6: 1192 / 10000\n",
      "Epoch 7: 1216 / 10000\n",
      "Epoch 8: 1276 / 10000\n",
      "Epoch 9: 1464 / 10000\n",
      "Epoch 10: 1935 / 10000\n",
      "Epoch 11: 1984 / 10000\n",
      "Epoch 12: 2040 / 10000\n",
      "Epoch 13: 2115 / 10000\n",
      "Epoch 14: 2188 / 10000\n",
      "Epoch 15: 2279 / 10000\n",
      "Epoch 16: 2381 / 10000\n",
      "Epoch 17: 2477 / 10000\n",
      "Epoch 18: 2567 / 10000\n",
      "Epoch 19: 2642 / 10000\n",
      "Epoch 20: 2697 / 10000\n",
      "Epoch 21: 2748 / 10000\n",
      "Epoch 22: 2791 / 10000\n",
      "Epoch 23: 2830 / 10000\n",
      "Epoch 24: 2853 / 10000\n",
      "Epoch 25: 2896 / 10000\n",
      "Epoch 26: 2925 / 10000\n",
      "Epoch 27: 2957 / 10000\n",
      "Epoch 28: 2991 / 10000\n",
      "Epoch 29: 3027 / 10000\n"
     ]
    }
   ],
   "source": [
    "net = Network([784, 100, 10])\n",
    "net.SGD(training_data, 30, 10, 0.001, test_data=test_data)"
   ]
  },
  {
   "cell_type": "markdown",
   "metadata": {},
   "source": [
    "### The results above are much less encouraging"
   ]
  },
  {
   "cell_type": "markdown",
   "metadata": {},
   "source": [
    "### Suppose we try the successful 30 hidden neuron network architecture from earlier, but with the learning rate changed to η=100.0"
   ]
  },
  {
   "cell_type": "code",
   "execution_count": 48,
   "metadata": {
    "collapsed": false
   },
   "outputs": [
    {
     "name": "stdout",
     "output_type": "stream",
     "text": [
      "Epoch 0: 1063 / 10000\n",
      "Epoch 1: 1539 / 10000\n",
      "Epoch 2: 1539 / 10000\n",
      "Epoch 3: 1533 / 10000\n",
      "Epoch 4: 1532 / 10000\n",
      "Epoch 5: 1522 / 10000\n",
      "Epoch 6: 1527 / 10000\n",
      "Epoch 7: 1527 / 10000\n",
      "Epoch 8: 1524 / 10000\n",
      "Epoch 9: 1513 / 10000\n",
      "Epoch 10: 1512 / 10000\n",
      "Epoch 11: 1511 / 10000\n",
      "Epoch 12: 1506 / 10000\n",
      "Epoch 13: 1494 / 10000\n",
      "Epoch 14: 1484 / 10000\n",
      "Epoch 15: 1484 / 10000\n",
      "Epoch 16: 1468 / 10000\n",
      "Epoch 17: 1455 / 10000\n",
      "Epoch 18: 1417 / 10000\n",
      "Epoch 19: 1463 / 10000\n",
      "Epoch 20: 1030 / 10000\n",
      "Epoch 21: 1030 / 10000\n",
      "Epoch 22: 1030 / 10000\n",
      "Epoch 23: 1030 / 10000\n",
      "Epoch 24: 1030 / 10000\n",
      "Epoch 25: 1029 / 10000\n",
      "Epoch 26: 1030 / 10000\n",
      "Epoch 27: 1030 / 10000\n",
      "Epoch 28: 1029 / 10000\n",
      "Epoch 29: 1029 / 10000\n"
     ]
    }
   ],
   "source": [
    "net = Network([784, 30, 10])\n",
    "net.SGD(training_data, 30, 10, 100.0, test_data=test_data)"
   ]
  },
  {
   "cell_type": "markdown",
   "metadata": {},
   "source": [
    "### At this point we've actually gone too far, and the learning rate is too high"
   ]
  },
  {
   "cell_type": "code",
   "execution_count": null,
   "metadata": {
    "collapsed": true
   },
   "outputs": [],
   "source": []
  },
  {
   "cell_type": "code",
   "execution_count": null,
   "metadata": {
    "collapsed": true
   },
   "outputs": [],
   "source": []
  },
  {
   "cell_type": "code",
   "execution_count": null,
   "metadata": {
    "collapsed": true
   },
   "outputs": [],
   "source": []
  },
  {
   "cell_type": "markdown",
   "metadata": {},
   "source": [
    "### Exercise\n",
    "\n",
    "### Try creating a network with just two layers - an input and an output layer, no hidden layer - with 784 and 10 neurons, respectively. Train the network using stochastic gradient descent. What classification accuracy can you achieve?"
   ]
  },
  {
   "cell_type": "code",
   "execution_count": 50,
   "metadata": {
    "collapsed": false
   },
   "outputs": [
    {
     "name": "stdout",
     "output_type": "stream",
     "text": [
      "Epoch 0: 5596 / 10000\n",
      "Epoch 1: 5746 / 10000\n",
      "Epoch 2: 6551 / 10000\n",
      "Epoch 3: 6616 / 10000\n",
      "Epoch 4: 6648 / 10000\n",
      "Epoch 5: 6688 / 10000\n",
      "Epoch 6: 6671 / 10000\n",
      "Epoch 7: 6676 / 10000\n",
      "Epoch 8: 6691 / 10000\n",
      "Epoch 9: 6714 / 10000\n",
      "Epoch 10: 6730 / 10000\n",
      "Epoch 11: 6709 / 10000\n",
      "Epoch 12: 6659 / 10000\n",
      "Epoch 13: 6742 / 10000\n",
      "Epoch 14: 6770 / 10000\n",
      "Epoch 15: 6771 / 10000\n",
      "Epoch 16: 6766 / 10000\n",
      "Epoch 17: 6816 / 10000\n",
      "Epoch 18: 6796 / 10000\n",
      "Epoch 19: 6768 / 10000\n",
      "Epoch 20: 6795 / 10000\n",
      "Epoch 21: 6764 / 10000\n",
      "Epoch 22: 6799 / 10000\n",
      "Epoch 23: 6838 / 10000\n",
      "Epoch 24: 6885 / 10000\n",
      "Epoch 25: 7557 / 10000\n",
      "Epoch 26: 7563 / 10000\n",
      "Epoch 27: 7577 / 10000\n",
      "Epoch 28: 7574 / 10000\n",
      "Epoch 29: 7597 / 10000\n"
     ]
    }
   ],
   "source": [
    "net = Network([784, 10])\n",
    "net.SGD(training_data, 30, 10, 3.0, test_data=test_data)"
   ]
  },
  {
   "cell_type": "code",
   "execution_count": 54,
   "metadata": {
    "collapsed": false
   },
   "outputs": [
    {
     "name": "stdout",
     "output_type": "stream",
     "text": [
      "Epoch 0: 5850 / 10000\n",
      "Epoch 1: 5905 / 10000\n",
      "Epoch 2: 6796 / 10000\n",
      "Epoch 3: 7556 / 10000\n",
      "Epoch 4: 7603 / 10000\n",
      "Epoch 5: 7789 / 10000\n",
      "Epoch 6: 8236 / 10000\n",
      "Epoch 7: 8355 / 10000\n",
      "Epoch 8: 8365 / 10000\n",
      "Epoch 9: 8392 / 10000\n",
      "Epoch 10: 8362 / 10000\n",
      "Epoch 11: 8394 / 10000\n",
      "Epoch 12: 8378 / 10000\n",
      "Epoch 13: 8393 / 10000\n",
      "Epoch 14: 8395 / 10000\n",
      "Epoch 15: 8392 / 10000\n",
      "Epoch 16: 8390 / 10000\n",
      "Epoch 17: 8382 / 10000\n",
      "Epoch 18: 8387 / 10000\n",
      "Epoch 19: 8410 / 10000\n",
      "Epoch 20: 8368 / 10000\n",
      "Epoch 21: 8399 / 10000\n",
      "Epoch 22: 8401 / 10000\n",
      "Epoch 23: 8416 / 10000\n",
      "Epoch 24: 8407 / 10000\n",
      "Epoch 25: 8419 / 10000\n",
      "Epoch 26: 8401 / 10000\n",
      "Epoch 27: 8407 / 10000\n",
      "Epoch 28: 8411 / 10000\n",
      "Epoch 29: 8396 / 10000\n"
     ]
    }
   ],
   "source": [
    "net = Network([784, 10])\n",
    "net.SGD(training_data, 30, 10, 2.0, test_data=test_data)"
   ]
  },
  {
   "cell_type": "code",
   "execution_count": 56,
   "metadata": {
    "collapsed": false
   },
   "outputs": [
    {
     "name": "stdout",
     "output_type": "stream",
     "text": [
      "Epoch 0: 5608 / 10000\n",
      "Epoch 1: 5664 / 10000\n",
      "Epoch 2: 6589 / 10000\n",
      "Epoch 3: 6642 / 10000\n",
      "Epoch 4: 7385 / 10000\n",
      "Epoch 5: 8277 / 10000\n",
      "Epoch 6: 8310 / 10000\n",
      "Epoch 7: 8340 / 10000\n",
      "Epoch 8: 8366 / 10000\n",
      "Epoch 9: 8360 / 10000\n",
      "Epoch 10: 8387 / 10000\n",
      "Epoch 11: 8369 / 10000\n",
      "Epoch 12: 8386 / 10000\n",
      "Epoch 13: 8377 / 10000\n",
      "Epoch 14: 8386 / 10000\n",
      "Epoch 15: 8390 / 10000\n",
      "Epoch 16: 8380 / 10000\n",
      "Epoch 17: 8401 / 10000\n",
      "Epoch 18: 8400 / 10000\n",
      "Epoch 19: 8380 / 10000\n",
      "Epoch 20: 8401 / 10000\n",
      "Epoch 21: 8343 / 10000\n",
      "Epoch 22: 8396 / 10000\n",
      "Epoch 23: 8395 / 10000\n",
      "Epoch 24: 8398 / 10000\n",
      "Epoch 25: 8388 / 10000\n",
      "Epoch 26: 8397 / 10000\n",
      "Epoch 27: 8397 / 10000\n",
      "Epoch 28: 8401 / 10000\n",
      "Epoch 29: 8405 / 10000\n"
     ]
    }
   ],
   "source": [
    "net = Network([784, 10])\n",
    "net.SGD(training_data, 30, 10, 1.9, test_data=test_data)"
   ]
  },
  {
   "cell_type": "code",
   "execution_count": null,
   "metadata": {
    "collapsed": true
   },
   "outputs": [],
   "source": []
  },
  {
   "cell_type": "code",
   "execution_count": null,
   "metadata": {
    "collapsed": true
   },
   "outputs": [],
   "source": []
  },
  {
   "cell_type": "code",
   "execution_count": null,
   "metadata": {
    "collapsed": true
   },
   "outputs": [],
   "source": []
  },
  {
   "cell_type": "code",
   "execution_count": null,
   "metadata": {
    "collapsed": true
   },
   "outputs": [],
   "source": []
  },
  {
   "cell_type": "code",
   "execution_count": null,
   "metadata": {
    "collapsed": true
   },
   "outputs": [],
   "source": []
  },
  {
   "cell_type": "code",
   "execution_count": null,
   "metadata": {
    "collapsed": true
   },
   "outputs": [],
   "source": []
  },
  {
   "cell_type": "code",
   "execution_count": null,
   "metadata": {
    "collapsed": true
   },
   "outputs": [],
   "source": []
  },
  {
   "cell_type": "code",
   "execution_count": null,
   "metadata": {
    "collapsed": true
   },
   "outputs": [],
   "source": []
  },
  {
   "cell_type": "code",
   "execution_count": null,
   "metadata": {
    "collapsed": true
   },
   "outputs": [],
   "source": []
  },
  {
   "cell_type": "code",
   "execution_count": null,
   "metadata": {
    "collapsed": true
   },
   "outputs": [],
   "source": []
  },
  {
   "cell_type": "code",
   "execution_count": null,
   "metadata": {
    "collapsed": true
   },
   "outputs": [],
   "source": []
  },
  {
   "cell_type": "code",
   "execution_count": null,
   "metadata": {
    "collapsed": true
   },
   "outputs": [],
   "source": []
  },
  {
   "cell_type": "code",
   "execution_count": null,
   "metadata": {
    "collapsed": true
   },
   "outputs": [],
   "source": []
  },
  {
   "cell_type": "code",
   "execution_count": null,
   "metadata": {
    "collapsed": true
   },
   "outputs": [],
   "source": []
  }
 ],
 "metadata": {
  "anaconda-cloud": {},
  "kernelspec": {
   "display_name": "Python [Root]",
   "language": "python",
   "name": "Python [Root]"
  },
  "language_info": {
   "codemirror_mode": {
    "name": "ipython",
    "version": 2
   },
   "file_extension": ".py",
   "mimetype": "text/x-python",
   "name": "python",
   "nbconvert_exporter": "python",
   "pygments_lexer": "ipython2",
   "version": "2.7.12"
  }
 },
 "nbformat": 4,
 "nbformat_minor": 0
}
